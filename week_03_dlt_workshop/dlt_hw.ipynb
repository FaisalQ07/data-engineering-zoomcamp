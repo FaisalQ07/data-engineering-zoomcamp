{
 "cells": [
  {
   "cell_type": "code",
   "execution_count": 1,
   "id": "d3909ae9-fe11-4010-85ca-7ca6191882e9",
   "metadata": {},
   "outputs": [
    {
     "name": "stdout",
     "output_type": "stream",
     "text": [
      "Collecting dlt[duckdb]\n",
      "  Downloading dlt-0.4.2-py3-none-any.whl.metadata (9.5 kB)\n",
      "Requirement already satisfied: PyYAML>=5.4.1 in /home/faisal/anaconda3/lib/python3.11/site-packages (from dlt[duckdb]) (6.0.1)\n",
      "Requirement already satisfied: SQLAlchemy>=1.4.0 in /home/faisal/anaconda3/lib/python3.11/site-packages (from dlt[duckdb]) (2.0.25)\n",
      "Collecting astunparse>=1.6.3 (from dlt[duckdb])\n",
      "  Downloading astunparse-1.6.3-py2.py3-none-any.whl (12 kB)\n",
      "Requirement already satisfied: click>=7.1 in /home/faisal/anaconda3/lib/python3.11/site-packages (from dlt[duckdb]) (8.1.7)\n",
      "Collecting duckdb<0.10.0,>=0.6.1 (from dlt[duckdb])\n",
      "  Downloading duckdb-0.9.2-cp311-cp311-manylinux_2_17_x86_64.manylinux2014_x86_64.whl.metadata (760 bytes)\n",
      "Requirement already satisfied: fsspec>=2022.4.0 in /home/faisal/anaconda3/lib/python3.11/site-packages (from dlt[duckdb]) (2023.10.0)\n",
      "Collecting gitpython>=3.1.29 (from dlt[duckdb])\n",
      "  Downloading GitPython-3.1.41-py3-none-any.whl.metadata (14 kB)\n",
      "Collecting giturlparse>=0.10.0 (from dlt[duckdb])\n",
      "  Downloading giturlparse-0.12.0-py2.py3-none-any.whl.metadata (4.5 kB)\n",
      "Collecting hexbytes>=0.2.2 (from dlt[duckdb])\n",
      "  Downloading hexbytes-1.0.0-py3-none-any.whl.metadata (5.3 kB)\n",
      "Collecting humanize>=4.4.0 (from dlt[duckdb])\n",
      "  Downloading humanize-4.9.0-py3-none-any.whl.metadata (7.9 kB)\n",
      "Collecting jsonpath-ng>=1.5.3 (from dlt[duckdb])\n",
      "  Downloading jsonpath_ng-1.6.1-py3-none-any.whl.metadata (18 kB)\n",
      "Collecting makefun>=1.15.0 (from dlt[duckdb])\n",
      "  Downloading makefun-1.15.2-py2.py3-none-any.whl.metadata (3.0 kB)\n",
      "Collecting orjson>=3.6.7 (from dlt[duckdb])\n",
      "  Downloading orjson-3.9.13-cp311-cp311-manylinux_2_17_x86_64.manylinux2014_x86_64.whl.metadata (49 kB)\n",
      "\u001b[2K     \u001b[38;2;114;156;31m━━━━━━━━━━━━━━━━━━━━━━━━━━━━━━━━━━━━━━━\u001b[0m \u001b[32m49.4/49.4 kB\u001b[0m \u001b[31m862.2 kB/s\u001b[0m eta \u001b[36m0:00:00\u001b[0m31m2.6 MB/s\u001b[0m eta \u001b[36m0:00:01\u001b[0m\n",
      "\u001b[?25hRequirement already satisfied: packaging>=21.1 in /home/faisal/anaconda3/lib/python3.11/site-packages (from dlt[duckdb]) (23.1)\n",
      "Collecting pathvalidate>=2.5.2 (from dlt[duckdb])\n",
      "  Downloading pathvalidate-3.2.0-py3-none-any.whl.metadata (11 kB)\n",
      "Requirement already satisfied: pendulum>=2.1.2 in /home/faisal/anaconda3/lib/python3.11/site-packages (from dlt[duckdb]) (3.0.0)\n",
      "Requirement already satisfied: pytz>=2022.6 in /home/faisal/anaconda3/lib/python3.11/site-packages (from dlt[duckdb]) (2023.3.post1)\n",
      "Requirement already satisfied: requests>=2.26.0 in /home/faisal/anaconda3/lib/python3.11/site-packages (from dlt[duckdb]) (2.31.0)\n",
      "Collecting requirements-parser>=0.5.0 (from dlt[duckdb])\n",
      "  Downloading requirements_parser-0.5.0-py3-none-any.whl (18 kB)\n",
      "Requirement already satisfied: semver>=2.13.0 in /home/faisal/anaconda3/lib/python3.11/site-packages (from dlt[duckdb]) (2.13.0)\n",
      "Requirement already satisfied: setuptools>=65.6.0 in /home/faisal/anaconda3/lib/python3.11/site-packages (from dlt[duckdb]) (68.2.2)\n",
      "Collecting simplejson>=3.17.5 (from dlt[duckdb])\n",
      "  Downloading simplejson-3.19.2-cp311-cp311-manylinux_2_5_x86_64.manylinux1_x86_64.manylinux_2_17_x86_64.manylinux2014_x86_64.whl.metadata (3.1 kB)\n",
      "Requirement already satisfied: tenacity>=8.0.2 in /home/faisal/anaconda3/lib/python3.11/site-packages (from dlt[duckdb]) (8.2.2)\n",
      "Collecting tomlkit>=0.11.3 (from dlt[duckdb])\n",
      "  Downloading tomlkit-0.12.3-py3-none-any.whl.metadata (2.7 kB)\n",
      "Requirement already satisfied: typing-extensions>=4.0.0 in /home/faisal/anaconda3/lib/python3.11/site-packages (from dlt[duckdb]) (4.9.0)\n",
      "Requirement already satisfied: tzdata>=2022.1 in /home/faisal/anaconda3/lib/python3.11/site-packages (from dlt[duckdb]) (2023.3)\n",
      "Requirement already satisfied: wheel<1.0,>=0.23.0 in /home/faisal/anaconda3/lib/python3.11/site-packages (from astunparse>=1.6.3->dlt[duckdb]) (0.41.2)\n",
      "Requirement already satisfied: six<2.0,>=1.6.1 in /home/faisal/anaconda3/lib/python3.11/site-packages (from astunparse>=1.6.3->dlt[duckdb]) (1.16.0)\n",
      "Collecting gitdb<5,>=4.0.1 (from gitpython>=3.1.29->dlt[duckdb])\n",
      "  Downloading gitdb-4.0.11-py3-none-any.whl.metadata (1.2 kB)\n",
      "Requirement already satisfied: ply in /home/faisal/anaconda3/lib/python3.11/site-packages (from jsonpath-ng>=1.5.3->dlt[duckdb]) (3.11)\n",
      "Requirement already satisfied: python-dateutil>=2.6 in /home/faisal/anaconda3/lib/python3.11/site-packages (from pendulum>=2.1.2->dlt[duckdb]) (2.8.2)\n",
      "Requirement already satisfied: time-machine>=2.6.0 in /home/faisal/anaconda3/lib/python3.11/site-packages (from pendulum>=2.1.2->dlt[duckdb]) (2.13.0)\n",
      "Requirement already satisfied: charset-normalizer<4,>=2 in /home/faisal/anaconda3/lib/python3.11/site-packages (from requests>=2.26.0->dlt[duckdb]) (2.0.4)\n",
      "Requirement already satisfied: idna<4,>=2.5 in /home/faisal/anaconda3/lib/python3.11/site-packages (from requests>=2.26.0->dlt[duckdb]) (3.4)\n",
      "Requirement already satisfied: urllib3<3,>=1.21.1 in /home/faisal/anaconda3/lib/python3.11/site-packages (from requests>=2.26.0->dlt[duckdb]) (1.26.18)\n",
      "Requirement already satisfied: certifi>=2017.4.17 in /home/faisal/anaconda3/lib/python3.11/site-packages (from requests>=2.26.0->dlt[duckdb]) (2023.11.17)\n",
      "Collecting types-setuptools>=57.0.0 (from requirements-parser>=0.5.0->dlt[duckdb])\n",
      "  Downloading types_setuptools-69.0.0.20240125-py3-none-any.whl.metadata (1.6 kB)\n",
      "Requirement already satisfied: greenlet!=0.4.17 in /home/faisal/anaconda3/lib/python3.11/site-packages (from SQLAlchemy>=1.4.0->dlt[duckdb]) (3.0.1)\n",
      "Collecting smmap<6,>=3.0.1 (from gitdb<5,>=4.0.1->gitpython>=3.1.29->dlt[duckdb])\n",
      "  Downloading smmap-5.0.1-py3-none-any.whl.metadata (4.3 kB)\n",
      "Downloading duckdb-0.9.2-cp311-cp311-manylinux_2_17_x86_64.manylinux2014_x86_64.whl (16.5 MB)\n",
      "\u001b[2K   \u001b[38;2;114;156;31m━━━━━━━━━━━━━━━━━━━━━━━━━━━━━━━━━━━━━━━━\u001b[0m \u001b[32m16.5/16.5 MB\u001b[0m \u001b[31m57.8 MB/s\u001b[0m eta \u001b[36m0:00:00\u001b[0mm eta \u001b[36m0:00:01\u001b[0m0:01\u001b[0m01\u001b[0m\n",
      "\u001b[?25hDownloading GitPython-3.1.41-py3-none-any.whl (196 kB)\n",
      "\u001b[2K   \u001b[38;2;114;156;31m━━━━━━━━━━━━━━━━━━━━━━━━━━━━━━━━━━━━━━━━\u001b[0m \u001b[32m196.4/196.4 kB\u001b[0m \u001b[31m22.1 MB/s\u001b[0m eta \u001b[36m0:00:00\u001b[0m\n",
      "\u001b[?25hDownloading giturlparse-0.12.0-py2.py3-none-any.whl (15 kB)\n",
      "Downloading hexbytes-1.0.0-py3-none-any.whl (5.9 kB)\n",
      "Downloading humanize-4.9.0-py3-none-any.whl (126 kB)\n",
      "\u001b[2K   \u001b[38;2;114;156;31m━━━━━━━━━━━━━━━━━━━━━━━━━━━━━━━━━━━━━━━━\u001b[0m \u001b[32m126.8/126.8 kB\u001b[0m \u001b[31m15.3 MB/s\u001b[0m eta \u001b[36m0:00:00\u001b[0m\n",
      "\u001b[?25hDownloading jsonpath_ng-1.6.1-py3-none-any.whl (29 kB)\n",
      "Downloading makefun-1.15.2-py2.py3-none-any.whl (22 kB)\n",
      "Downloading orjson-3.9.13-cp311-cp311-manylinux_2_17_x86_64.manylinux2014_x86_64.whl (138 kB)\n",
      "\u001b[2K   \u001b[38;2;114;156;31m━━━━━━━━━━━━━━━━━━━━━━━━━━━━━━━━━━━━━━━━\u001b[0m \u001b[32m138.7/138.7 kB\u001b[0m \u001b[31m15.4 MB/s\u001b[0m eta \u001b[36m0:00:00\u001b[0m\n",
      "\u001b[?25hDownloading pathvalidate-3.2.0-py3-none-any.whl (23 kB)\n",
      "Downloading simplejson-3.19.2-cp311-cp311-manylinux_2_5_x86_64.manylinux1_x86_64.manylinux_2_17_x86_64.manylinux2014_x86_64.whl (144 kB)\n",
      "\u001b[2K   \u001b[38;2;114;156;31m━━━━━━━━━━━━━━━━━━━━━━━━━━━━━━━━━━━━━━━━\u001b[0m \u001b[32m144.7/144.7 kB\u001b[0m \u001b[31m17.1 MB/s\u001b[0m eta \u001b[36m0:00:00\u001b[0m\n",
      "\u001b[?25hDownloading tomlkit-0.12.3-py3-none-any.whl (37 kB)\n",
      "Downloading dlt-0.4.2-py3-none-any.whl (518 kB)\n",
      "\u001b[2K   \u001b[38;2;114;156;31m━━━━━━━━━━━━━━━━━━━━━━━━━━━━━━━━━━━━━━━━\u001b[0m \u001b[32m518.1/518.1 kB\u001b[0m \u001b[31m43.1 MB/s\u001b[0m eta \u001b[36m0:00:00\u001b[0m\n",
      "\u001b[?25hDownloading gitdb-4.0.11-py3-none-any.whl (62 kB)\n",
      "\u001b[2K   \u001b[38;2;114;156;31m━━━━━━━━━━━━━━━━━━━━━━━━━━━━━━━━━━━━━━━━\u001b[0m \u001b[32m62.7/62.7 kB\u001b[0m \u001b[31m6.8 MB/s\u001b[0m eta \u001b[36m0:00:00\u001b[0m\n",
      "\u001b[?25hDownloading types_setuptools-69.0.0.20240125-py3-none-any.whl (51 kB)\n",
      "\u001b[2K   \u001b[38;2;114;156;31m━━━━━━━━━━━━━━━━━━━━━━━━━━━━━━━━━━━━━━━━\u001b[0m \u001b[32m51.3/51.3 kB\u001b[0m \u001b[31m4.6 MB/s\u001b[0m eta \u001b[36m0:00:00\u001b[0m\n",
      "\u001b[?25hDownloading smmap-5.0.1-py3-none-any.whl (24 kB)\n",
      "Installing collected packages: makefun, types-setuptools, tomlkit, smmap, simplejson, pathvalidate, orjson, jsonpath-ng, humanize, hexbytes, giturlparse, duckdb, astunparse, requirements-parser, gitdb, gitpython, dlt\n",
      "  Attempting uninstall: tomlkit\n",
      "    Found existing installation: tomlkit 0.11.1\n",
      "    Uninstalling tomlkit-0.11.1:\n",
      "      Successfully uninstalled tomlkit-0.11.1\n",
      "Successfully installed astunparse-1.6.3 dlt-0.4.2 duckdb-0.9.2 gitdb-4.0.11 gitpython-3.1.41 giturlparse-0.12.0 hexbytes-1.0.0 humanize-4.9.0 jsonpath-ng-1.6.1 makefun-1.15.2 orjson-3.9.13 pathvalidate-3.2.0 requirements-parser-0.5.0 simplejson-3.19.2 smmap-5.0.1 tomlkit-0.12.3 types-setuptools-69.0.0.20240125\n"
     ]
    }
   ],
   "source": [
    "!pip install dlt[duckdb]"
   ]
  },
  {
   "cell_type": "markdown",
   "id": "1fb97248-d76b-493e-8abf-e742f3af7593",
   "metadata": {},
   "source": [
    "## 1. Use a generator"
   ]
  },
  {
   "cell_type": "code",
   "execution_count": 1,
   "id": "3b432690-b53e-429e-b773-b7d7522a0700",
   "metadata": {},
   "outputs": [],
   "source": [
    "def square_root_generator(limit):\n",
    "    n = 1\n",
    "    while n <= limit:\n",
    "        yield n ** 0.5\n",
    "        n += 1"
   ]
  },
  {
   "cell_type": "markdown",
   "id": "c27cf551-a169-4ada-b5a3-514eaf197f1b",
   "metadata": {},
   "source": [
    "### Question 1: What is the sum of the outputs of the generator for limit = 5?"
   ]
  },
  {
   "cell_type": "code",
   "execution_count": 3,
   "id": "cac6e0c7-e894-4220-ab5f-4fd3b548f85c",
   "metadata": {},
   "outputs": [
    {
     "name": "stdout",
     "output_type": "stream",
     "text": [
      "8.382332347441762\n"
     ]
    }
   ],
   "source": [
    "generator = square_root_generator(5)\n",
    "all_output = list(square_root_generator(5))\n",
    "print(sum(all_output))"
   ]
  },
  {
   "cell_type": "markdown",
   "id": "bb570d4e-c834-428b-b506-d04f130e2167",
   "metadata": {},
   "source": [
    "### Question 2: What is the 13th number yielded by the generator?"
   ]
  },
  {
   "cell_type": "code",
   "execution_count": 4,
   "id": "89a73adb-bce5-4500-a4a8-827e99bb4129",
   "metadata": {},
   "outputs": [
    {
     "name": "stdout",
     "output_type": "stream",
     "text": [
      "3.605551275463989\n"
     ]
    }
   ],
   "source": [
    "generator_list = list(square_root_generator(13))\n",
    "print(generator_list[-1])"
   ]
  },
  {
   "cell_type": "markdown",
   "id": "92544842-90b5-46b8-88f3-b390b91e56c9",
   "metadata": {},
   "source": [
    "## 2. Append a generator to a table with existing data"
   ]
  },
  {
   "cell_type": "code",
   "execution_count": 1,
   "id": "f1eb51c4-84c4-4089-8cd7-e10aa4480bde",
   "metadata": {},
   "outputs": [
    {
     "name": "stdout",
     "output_type": "stream",
     "text": [
      "{'ID': 1, 'Name': 'Person_1', 'Age': 26, 'City': 'City_A'}\n",
      "{'ID': 2, 'Name': 'Person_2', 'Age': 27, 'City': 'City_A'}\n",
      "{'ID': 3, 'Name': 'Person_3', 'Age': 28, 'City': 'City_A'}\n",
      "{'ID': 4, 'Name': 'Person_4', 'Age': 29, 'City': 'City_A'}\n",
      "{'ID': 5, 'Name': 'Person_5', 'Age': 30, 'City': 'City_A'}\n"
     ]
    }
   ],
   "source": [
    "def people_1():\n",
    "    for i in range(1, 6):\n",
    "        yield {\"ID\": i, \"Name\": f\"Person_{i}\", \"Age\": 25 + i, \"City\": \"City_A\"}\n",
    "\n",
    "for person in people_1():\n",
    "    print(person)\n",
    "\n",
    "\n",
    "def people_2():\n",
    "    for i in range(3, 9):\n",
    "        yield {\"ID\": i, \"Name\": f\"Person_{i}\", \"Age\": 30 + i, \"City\": \"City_B\", \"Occupation\": f\"Job_{i}\"}\n",
    "\n",
    "\n",
    "# for person in people_2():\n",
    "#     print(person)"
   ]
  },
  {
   "cell_type": "markdown",
   "id": "4b218a0c-c1e5-4d66-b80e-714feaa82e7f",
   "metadata": {},
   "source": [
    "### Question 3: Append the 2 generators. After correctly appending the data, calculate the sum of all ages of people."
   ]
  },
  {
   "cell_type": "code",
   "execution_count": 2,
   "id": "0cf49f73-543c-4670-94a0-a664a3695c85",
   "metadata": {
    "scrolled": true
   },
   "outputs": [
    {
     "name": "stdout",
     "output_type": "stream",
     "text": [
      "{'ID': 1, 'Name': 'Person_1', 'Age': 26, 'City': 'City_A'}\n",
      "{'ID': 2, 'Name': 'Person_2', 'Age': 27, 'City': 'City_A'}\n",
      "{'ID': 3, 'Name': 'Person_3', 'Age': 28, 'City': 'City_A'}\n",
      "{'ID': 4, 'Name': 'Person_4', 'Age': 29, 'City': 'City_A'}\n",
      "{'ID': 5, 'Name': 'Person_5', 'Age': 30, 'City': 'City_A'}\n",
      "{'ID': 3, 'Name': 'Person_3', 'Age': 33, 'City': 'City_B', 'Occupation': 'Job_3'}\n",
      "{'ID': 4, 'Name': 'Person_4', 'Age': 34, 'City': 'City_B', 'Occupation': 'Job_4'}\n",
      "{'ID': 5, 'Name': 'Person_5', 'Age': 35, 'City': 'City_B', 'Occupation': 'Job_5'}\n",
      "{'ID': 6, 'Name': 'Person_6', 'Age': 36, 'City': 'City_B', 'Occupation': 'Job_6'}\n",
      "{'ID': 7, 'Name': 'Person_7', 'Age': 37, 'City': 'City_B', 'Occupation': 'Job_7'}\n",
      "{'ID': 8, 'Name': 'Person_8', 'Age': 38, 'City': 'City_B', 'Occupation': 'Job_8'}\n",
      "Sum of all ages: 353\n"
     ]
    }
   ],
   "source": [
    "def append_generators(gen_1, gen_2):\n",
    "    for person in gen_1:\n",
    "        yield person\n",
    "    for person in gen_2:\n",
    "        yield person\n",
    "        \n",
    "sum_of_ages = 0\n",
    "for person in append_generators(people_1(), people_2()):\n",
    "    print(person)\n",
    "    sum_of_ages += person['Age']\n",
    "\n",
    "print(f'Sum of all ages: {sum_of_ages}')"
   ]
  },
  {
   "cell_type": "markdown",
   "id": "7d2e4c11-0841-4076-997f-fcfb9bf91af4",
   "metadata": {},
   "source": [
    "## 3. Merge a generator"
   ]
  },
  {
   "cell_type": "markdown",
   "id": "d21a439d-857d-4bba-852f-8d4c78f3a59e",
   "metadata": {},
   "source": [
    "### Question 4: Merge the 2 generators using the ID column. Calculate the sum of ages of all the people loaded as described above."
   ]
  },
  {
   "cell_type": "code",
   "execution_count": 3,
   "id": "84919d56-1bab-4ddd-a83f-25e1ec83260e",
   "metadata": {},
   "outputs": [
    {
     "name": "stderr",
     "output_type": "stream",
     "text": [
      "2024-02-07 00:36:24,618|[WARNING              ]|6903|139724718309760|dlt|reference.py|_verify_schema:357|A column record_hash in table person_detail in schema dlt_ipykernel_launcher is incomplete. It was not bound to the data during normalizations stage and its data type is unknown. Did you add this column manually in code ie. as a merge key?\n",
      "2024-02-07 00:36:24,662|[WARNING              ]|6903|139724718309760|dlt|reference.py|_verify_schema:357|A column record_hash in table person_detail in schema dlt_ipykernel_launcher is incomplete. It was not bound to the data during normalizations stage and its data type is unknown. Did you add this column manually in code ie. as a merge key?\n"
     ]
    },
    {
     "name": "stdout",
     "output_type": "stream",
     "text": [
      "Pipeline dlt_ipykernel_launcher load step completed in 0.41 seconds\n",
      "1 load package(s) were loaded to destination duckdb and into dataset people\n",
      "The duckdb destination used duckdb:////home/faisal/my_projects/data-engineering-zoomcamp/week_03_dlt_workshop/dlt_ipykernel_launcher.duckdb location to store data\n",
      "Load package 1707266184.2675464 is LOADED and contains no failed jobs\n"
     ]
    }
   ],
   "source": [
    "import dlt\n",
    "import duckdb\n",
    "\n",
    "# define the connection to load to.\n",
    "# We now use duckdb, but you can switch to Bigquery later\n",
    "pipeline = dlt.pipeline(destination='duckdb', dataset_name='people')\n",
    "\n",
    "# run with merge write disposition.\n",
    "# This is so scaffolding is created for the next example,\n",
    "# where we look at merging data\n",
    "\n",
    "info = pipeline.run(people_1(),\n",
    "                    table_name=\"person_detail\",\n",
    "                    write_disposition=\"merge\",\n",
    "                    primary_key=\"id\"\n",
    "                   )\n",
    "\n",
    "print(info)"
   ]
  },
  {
   "cell_type": "code",
   "execution_count": 4,
   "id": "2c0fe8c8-d703-4ef5-a1ce-eed481fc7f04",
   "metadata": {},
   "outputs": [
    {
     "name": "stdout",
     "output_type": "stream",
     "text": [
      "Loaded tables: \n"
     ]
    },
    {
     "data": {
      "text/plain": [
       "┌─────────────────────┐\n",
       "│        name         │\n",
       "│       varchar       │\n",
       "├─────────────────────┤\n",
       "│ _dlt_loads          │\n",
       "│ _dlt_pipeline_state │\n",
       "│ _dlt_version        │\n",
       "│ person_detail       │\n",
       "└─────────────────────┘"
      ]
     },
     "metadata": {},
     "output_type": "display_data"
    },
    {
     "name": "stdout",
     "output_type": "stream",
     "text": [
      "\n",
      "\n",
      "\n",
      " person_detail table below: Note the times are properly typed\n"
     ]
    },
    {
     "data": {
      "text/html": [
       "<div>\n",
       "<style scoped>\n",
       "    .dataframe tbody tr th:only-of-type {\n",
       "        vertical-align: middle;\n",
       "    }\n",
       "\n",
       "    .dataframe tbody tr th {\n",
       "        vertical-align: top;\n",
       "    }\n",
       "\n",
       "    .dataframe thead th {\n",
       "        text-align: right;\n",
       "    }\n",
       "</style>\n",
       "<table border=\"1\" class=\"dataframe\">\n",
       "  <thead>\n",
       "    <tr style=\"text-align: right;\">\n",
       "      <th></th>\n",
       "      <th>id</th>\n",
       "      <th>name</th>\n",
       "      <th>age</th>\n",
       "      <th>city</th>\n",
       "      <th>_dlt_load_id</th>\n",
       "      <th>_dlt_id</th>\n",
       "      <th>occupation</th>\n",
       "    </tr>\n",
       "  </thead>\n",
       "  <tbody>\n",
       "    <tr>\n",
       "      <th>0</th>\n",
       "      <td>5</td>\n",
       "      <td>Person_5</td>\n",
       "      <td>30</td>\n",
       "      <td>City_A</td>\n",
       "      <td>1707266184.2675464</td>\n",
       "      <td>W9ND2/Ernojqhw</td>\n",
       "      <td>None</td>\n",
       "    </tr>\n",
       "    <tr>\n",
       "      <th>1</th>\n",
       "      <td>4</td>\n",
       "      <td>Person_4</td>\n",
       "      <td>29</td>\n",
       "      <td>City_A</td>\n",
       "      <td>1707266184.2675464</td>\n",
       "      <td>ZQ3AETPU2ZeYIw</td>\n",
       "      <td>None</td>\n",
       "    </tr>\n",
       "    <tr>\n",
       "      <th>2</th>\n",
       "      <td>2</td>\n",
       "      <td>Person_2</td>\n",
       "      <td>27</td>\n",
       "      <td>City_A</td>\n",
       "      <td>1707266184.2675464</td>\n",
       "      <td>a7yECG2P50AU9Q</td>\n",
       "      <td>None</td>\n",
       "    </tr>\n",
       "    <tr>\n",
       "      <th>3</th>\n",
       "      <td>3</td>\n",
       "      <td>Person_3</td>\n",
       "      <td>28</td>\n",
       "      <td>City_A</td>\n",
       "      <td>1707266184.2675464</td>\n",
       "      <td>B3ZB6GyqRsTxzw</td>\n",
       "      <td>None</td>\n",
       "    </tr>\n",
       "    <tr>\n",
       "      <th>4</th>\n",
       "      <td>1</td>\n",
       "      <td>Person_1</td>\n",
       "      <td>26</td>\n",
       "      <td>City_A</td>\n",
       "      <td>1707266184.2675464</td>\n",
       "      <td>IzMk8qYewyE80A</td>\n",
       "      <td>None</td>\n",
       "    </tr>\n",
       "  </tbody>\n",
       "</table>\n",
       "</div>"
      ],
      "text/plain": [
       "   id      name  age    city        _dlt_load_id         _dlt_id occupation\n",
       "0   5  Person_5   30  City_A  1707266184.2675464  W9ND2/Ernojqhw       None\n",
       "1   4  Person_4   29  City_A  1707266184.2675464  ZQ3AETPU2ZeYIw       None\n",
       "2   2  Person_2   27  City_A  1707266184.2675464  a7yECG2P50AU9Q       None\n",
       "3   3  Person_3   28  City_A  1707266184.2675464  B3ZB6GyqRsTxzw       None\n",
       "4   1  Person_1   26  City_A  1707266184.2675464  IzMk8qYewyE80A       None"
      ]
     },
     "metadata": {},
     "output_type": "display_data"
    }
   ],
   "source": [
    "# show the outcome\n",
    "\n",
    "conn = duckdb.connect(f\"{pipeline.pipeline_name}.duckdb\")\n",
    "\n",
    "# let's see the tables\n",
    "conn.sql(f\"SET search_path = '{pipeline.dataset_name}'\")\n",
    "print('Loaded tables: ')\n",
    "display(conn.sql(\"show tables\"))\n",
    "\n",
    "print(\"\\n\\n\\n person_detail table below: Note the times are properly typed\")\n",
    "person_detail = conn.sql(\"SELECT * FROM person_detail\").df()\n",
    "display(person_detail)"
   ]
  },
  {
   "cell_type": "code",
   "execution_count": 5,
   "id": "e2a8e47a-44ce-422b-a132-da82c8c36296",
   "metadata": {},
   "outputs": [
    {
     "name": "stderr",
     "output_type": "stream",
     "text": [
      "2024-02-07 00:36:30,528|[WARNING              ]|6903|139724718309760|dlt|reference.py|_verify_schema:357|A column record_hash in table person_detail in schema dlt_ipykernel_launcher is incomplete. It was not bound to the data during normalizations stage and its data type is unknown. Did you add this column manually in code ie. as a merge key?\n",
      "2024-02-07 00:36:30,531|[WARNING              ]|6903|139724718309760|dlt|reference.py|_verify_schema:357|A column record_hash in table person_detail in schema dlt_ipykernel_launcher is incomplete. It was not bound to the data during normalizations stage and its data type is unknown. Did you add this column manually in code ie. as a merge key?\n"
     ]
    },
    {
     "name": "stdout",
     "output_type": "stream",
     "text": [
      "Pipeline dlt_ipykernel_launcher load step completed in 0.29 seconds\n",
      "1 load package(s) were loaded to destination duckdb and into dataset people\n",
      "The duckdb destination used duckdb:////home/faisal/my_projects/data-engineering-zoomcamp/week_03_dlt_workshop/dlt_ipykernel_launcher.duckdb location to store data\n",
      "Load package 1707266190.1726866 is LOADED and contains no failed jobs\n"
     ]
    }
   ],
   "source": [
    "# define the connection to load to.\n",
    "# We now use duckdb, but you can switch to Bigquery later\n",
    "pipeline = dlt.pipeline(destination='duckdb', dataset_name='people')\n",
    "\n",
    "# run with merge write disposition.\n",
    "# This is so scaffolding is created for the next example,\n",
    "# where we look at merging data\n",
    "\n",
    "info = pipeline.run(people_2(),\n",
    "                    table_name=\"person_detail\",\n",
    "                    write_disposition=\"merge\",\n",
    "                    primary_key=\"id\"\n",
    "                   )\n",
    "\n",
    "print(info)"
   ]
  },
  {
   "cell_type": "code",
   "execution_count": 6,
   "id": "3b42cc71-fa59-48ea-8434-d1a435b6efcf",
   "metadata": {
    "scrolled": true
   },
   "outputs": [
    {
     "name": "stdout",
     "output_type": "stream",
     "text": [
      "Loaded tables: \n"
     ]
    },
    {
     "data": {
      "text/plain": [
       "┌─────────────────────┐\n",
       "│        name         │\n",
       "│       varchar       │\n",
       "├─────────────────────┤\n",
       "│ _dlt_loads          │\n",
       "│ _dlt_pipeline_state │\n",
       "│ _dlt_version        │\n",
       "│ person_detail       │\n",
       "└─────────────────────┘"
      ]
     },
     "metadata": {},
     "output_type": "display_data"
    },
    {
     "name": "stdout",
     "output_type": "stream",
     "text": [
      "\n",
      "\n",
      "\n",
      " person_detail table below: Note the times are properly typed\n"
     ]
    },
    {
     "data": {
      "text/html": [
       "<div>\n",
       "<style scoped>\n",
       "    .dataframe tbody tr th:only-of-type {\n",
       "        vertical-align: middle;\n",
       "    }\n",
       "\n",
       "    .dataframe tbody tr th {\n",
       "        vertical-align: top;\n",
       "    }\n",
       "\n",
       "    .dataframe thead th {\n",
       "        text-align: right;\n",
       "    }\n",
       "</style>\n",
       "<table border=\"1\" class=\"dataframe\">\n",
       "  <thead>\n",
       "    <tr style=\"text-align: right;\">\n",
       "      <th></th>\n",
       "      <th>id</th>\n",
       "      <th>name</th>\n",
       "      <th>age</th>\n",
       "      <th>city</th>\n",
       "      <th>_dlt_load_id</th>\n",
       "      <th>_dlt_id</th>\n",
       "      <th>occupation</th>\n",
       "    </tr>\n",
       "  </thead>\n",
       "  <tbody>\n",
       "    <tr>\n",
       "      <th>0</th>\n",
       "      <td>2</td>\n",
       "      <td>Person_2</td>\n",
       "      <td>27</td>\n",
       "      <td>City_A</td>\n",
       "      <td>1707266184.2675464</td>\n",
       "      <td>a7yECG2P50AU9Q</td>\n",
       "      <td>None</td>\n",
       "    </tr>\n",
       "    <tr>\n",
       "      <th>1</th>\n",
       "      <td>1</td>\n",
       "      <td>Person_1</td>\n",
       "      <td>26</td>\n",
       "      <td>City_A</td>\n",
       "      <td>1707266184.2675464</td>\n",
       "      <td>IzMk8qYewyE80A</td>\n",
       "      <td>None</td>\n",
       "    </tr>\n",
       "    <tr>\n",
       "      <th>2</th>\n",
       "      <td>8</td>\n",
       "      <td>Person_8</td>\n",
       "      <td>38</td>\n",
       "      <td>City_B</td>\n",
       "      <td>1707266190.1726866</td>\n",
       "      <td>1TB2pPDM8KTtyw</td>\n",
       "      <td>Job_8</td>\n",
       "    </tr>\n",
       "    <tr>\n",
       "      <th>3</th>\n",
       "      <td>5</td>\n",
       "      <td>Person_5</td>\n",
       "      <td>35</td>\n",
       "      <td>City_B</td>\n",
       "      <td>1707266190.1726866</td>\n",
       "      <td>r4auqp56T1NUQg</td>\n",
       "      <td>Job_5</td>\n",
       "    </tr>\n",
       "    <tr>\n",
       "      <th>4</th>\n",
       "      <td>7</td>\n",
       "      <td>Person_7</td>\n",
       "      <td>37</td>\n",
       "      <td>City_B</td>\n",
       "      <td>1707266190.1726866</td>\n",
       "      <td>PDEQoMPSgFqCDw</td>\n",
       "      <td>Job_7</td>\n",
       "    </tr>\n",
       "    <tr>\n",
       "      <th>5</th>\n",
       "      <td>4</td>\n",
       "      <td>Person_4</td>\n",
       "      <td>34</td>\n",
       "      <td>City_B</td>\n",
       "      <td>1707266190.1726866</td>\n",
       "      <td>v2DKs48KW/9dwg</td>\n",
       "      <td>Job_4</td>\n",
       "    </tr>\n",
       "    <tr>\n",
       "      <th>6</th>\n",
       "      <td>3</td>\n",
       "      <td>Person_3</td>\n",
       "      <td>33</td>\n",
       "      <td>City_B</td>\n",
       "      <td>1707266190.1726866</td>\n",
       "      <td>Z/6IMlhuWhN8QA</td>\n",
       "      <td>Job_3</td>\n",
       "    </tr>\n",
       "    <tr>\n",
       "      <th>7</th>\n",
       "      <td>6</td>\n",
       "      <td>Person_6</td>\n",
       "      <td>36</td>\n",
       "      <td>City_B</td>\n",
       "      <td>1707266190.1726866</td>\n",
       "      <td>AyZbwrJaYf5/IQ</td>\n",
       "      <td>Job_6</td>\n",
       "    </tr>\n",
       "  </tbody>\n",
       "</table>\n",
       "</div>"
      ],
      "text/plain": [
       "   id      name  age    city        _dlt_load_id         _dlt_id occupation\n",
       "0   2  Person_2   27  City_A  1707266184.2675464  a7yECG2P50AU9Q       None\n",
       "1   1  Person_1   26  City_A  1707266184.2675464  IzMk8qYewyE80A       None\n",
       "2   8  Person_8   38  City_B  1707266190.1726866  1TB2pPDM8KTtyw      Job_8\n",
       "3   5  Person_5   35  City_B  1707266190.1726866  r4auqp56T1NUQg      Job_5\n",
       "4   7  Person_7   37  City_B  1707266190.1726866  PDEQoMPSgFqCDw      Job_7\n",
       "5   4  Person_4   34  City_B  1707266190.1726866  v2DKs48KW/9dwg      Job_4\n",
       "6   3  Person_3   33  City_B  1707266190.1726866  Z/6IMlhuWhN8QA      Job_3\n",
       "7   6  Person_6   36  City_B  1707266190.1726866  AyZbwrJaYf5/IQ      Job_6"
      ]
     },
     "metadata": {},
     "output_type": "display_data"
    }
   ],
   "source": [
    "# show the outcome\n",
    "\n",
    "conn = duckdb.connect(f\"{pipeline.pipeline_name}.duckdb\")\n",
    "\n",
    "# let's see the tables\n",
    "conn.sql(f\"SET search_path = '{pipeline.dataset_name}'\")\n",
    "print('Loaded tables: ')\n",
    "display(conn.sql(\"show tables\"))\n",
    "\n",
    "print(\"\\n\\n\\n person_detail table below: Note the times are properly typed\")\n",
    "person_detail = conn.sql(\"SELECT * FROM person_detail\").df()\n",
    "display(person_detail)"
   ]
  },
  {
   "cell_type": "code",
   "execution_count": 9,
   "id": "5d13812b-6592-4d35-8199-5b88d3f4771b",
   "metadata": {},
   "outputs": [
    {
     "data": {
      "text/html": [
       "<div>\n",
       "<style scoped>\n",
       "    .dataframe tbody tr th:only-of-type {\n",
       "        vertical-align: middle;\n",
       "    }\n",
       "\n",
       "    .dataframe tbody tr th {\n",
       "        vertical-align: top;\n",
       "    }\n",
       "\n",
       "    .dataframe thead th {\n",
       "        text-align: right;\n",
       "    }\n",
       "</style>\n",
       "<table border=\"1\" class=\"dataframe\">\n",
       "  <thead>\n",
       "    <tr style=\"text-align: right;\">\n",
       "      <th></th>\n",
       "      <th>sum_of_age</th>\n",
       "    </tr>\n",
       "  </thead>\n",
       "  <tbody>\n",
       "    <tr>\n",
       "      <th>0</th>\n",
       "      <td>266.0</td>\n",
       "    </tr>\n",
       "  </tbody>\n",
       "</table>\n",
       "</div>"
      ],
      "text/plain": [
       "   sum_of_age\n",
       "0       266.0"
      ]
     },
     "metadata": {},
     "output_type": "display_data"
    }
   ],
   "source": [
    "sum_of_age_result = conn.sql(\"SELECT sum(age) as sum_of_age FROM person_detail\").df()\n",
    "display(sum_of_age_result)"
   ]
  },
  {
   "cell_type": "markdown",
   "id": "5a0bd235-8929-4769-b60e-181bff61214e",
   "metadata": {},
   "source": [
    "## Done"
   ]
  }
 ],
 "metadata": {
  "kernelspec": {
   "display_name": "Python 3 (ipykernel)",
   "language": "python",
   "name": "python3"
  },
  "language_info": {
   "codemirror_mode": {
    "name": "ipython",
    "version": 3
   },
   "file_extension": ".py",
   "mimetype": "text/x-python",
   "name": "python",
   "nbconvert_exporter": "python",
   "pygments_lexer": "ipython3",
   "version": "3.11.7"
  }
 },
 "nbformat": 4,
 "nbformat_minor": 5
}
